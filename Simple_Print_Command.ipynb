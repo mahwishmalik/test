{
  "nbformat": 4,
  "nbformat_minor": 0,
  "metadata": {
    "colab": {
      "provenance": []
    },
    "kernelspec": {
      "name": "python3",
      "display_name": "Python 3"
    },
    "language_info": {
      "name": "python"
    }
  },
  "cells": [
    {
      "cell_type": "code",
      "execution_count": 2,
      "metadata": {
        "colab": {
          "base_uri": "https://localhost:8080/"
        },
        "id": "lMJjXtaHUtfv",
        "outputId": "0d06a41f-4021-4a3b-d815-6e48351be4a1"
      },
      "outputs": [
        {
          "output_type": "stream",
          "name": "stdout",
          "text": [
            "my github propject\n",
            "upload my project in github\n",
            "4\n"
          ]
        }
      ],
      "source": [
        "print('my github propject')\n",
        "\n",
        "print ('upload my project in github')\n",
        "print (2+2)"
      ]
    },
    {
      "cell_type": "code",
      "source": [],
      "metadata": {
        "id": "oxkKgdLTU7a4"
      },
      "execution_count": null,
      "outputs": []
    }
  ]
}